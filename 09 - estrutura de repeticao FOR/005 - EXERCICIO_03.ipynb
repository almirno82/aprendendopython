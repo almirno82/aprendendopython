{
 "cells": [
  {
   "cell_type": "markdown",
   "metadata": {
    "id": "QD4COrbRYbX3"
   },
   "source": [
    "# Exercícios\n",
    "\n"
   ]
  },
  {
   "cell_type": "markdown",
   "metadata": {
    "id": "6ev2ZDNUYbYq"
   },
   "source": [
    "## 3. Comparação com Ano Anterior\n",
    "\n",
    "Digamos que você está analisando as vendas de produtos de um ecommerce e quer identificar quais produtos tiveram no ano de 2020 mais vendas do que no ano de 2019, para reportar isso para a diretoria.\n",
    "\n",
    "Sua resposta pode ser um print de cada produto, qual foi a venda de 2019, a venda de 2020 e o % de crescimento de 2020 para 2019.\n",
    "\n",
    "Lembrando, para calcular o % de crescimento de um produto de um ano para o outro, podemos fazer: (vendas_produto2020/vendas_produto2019 - 1)\n",
    "\n",
    "Dica: lembre do enumerate, ele pode facilitar seu \"for\""
   ]
  },
  {
   "cell_type": "code",
   "execution_count": 24,
   "metadata": {},
   "outputs": [
    {
     "name": "stdout",
     "output_type": "stream",
     "text": [
      "O produto iphone vendeu em 2019 R$ 558,147, e em 2020 R$ 951,642. Com crescimento de 70.50% % em vendas\n",
      "O produto tv vendeu em 2019 R$ 405,252, e em 2020 R$ 787,604. Com crescimento de 94.35% % em vendas\n",
      "O produto máquina de café vendeu em 2019 R$ 718,654, e em 2020 R$ 867,660. Com crescimento de 20.73% % em vendas\n",
      "O produto notebook dell vendeu em 2019 R$ 422,760, e em 2020 R$ 694,913. Com crescimento de 64.38% % em vendas\n",
      "O produto notebook hp vendeu em 2019 R$ 154,753, e em 2020 R$ 539,704. Com crescimento de 248.75% % em vendas\n",
      "O produto microsoft surface vendeu em 2019 R$ 438,508, e em 2020 R$ 667,179. Com crescimento de 52.15% % em vendas\n",
      "O produto webcam vendeu em 2019 R$ 237,467, e em 2020 R$ 295,633. Com crescimento de 24.49% % em vendas\n",
      "O produto caixa de som vendeu em 2019 R$ 489,705, e em 2020 R$ 725,316. Com crescimento de 48.11% % em vendas\n",
      "O produto microfone vendeu em 2019 R$ 328,311, e em 2020 R$ 644,622. Com crescimento de 96.34% % em vendas\n",
      "O produto câmera canon vendeu em 2019 R$ 591,120, e em 2020 R$ 994,303. Com crescimento de 68.21% % em vendas\n"
     ]
    }
   ],
   "source": [
    "produtos = ['iphone', 'galaxy', 'ipad', 'tv', 'máquina de café', 'kindle', 'geladeira', 'adega', 'notebook dell', 'notebook hp', 'notebook asus', 'microsoft surface', 'webcam', 'caixa de som', 'microfone', 'câmera canon']\n",
    "vendas2019 = [558147,712350,573823,405252,718654,531580,973139,892292,422760,154753,887061,438508,237467,489705,328311,591120]\n",
    "vendas2020 = [951642,244295,26964,787604,867660,78830,710331,646016,694913,539704,324831,667179,295633,725316,644622,994303]\n",
    "#seu código aqui\n",
    "\n",
    "for i, item in enumerate(produtos):\n",
    "    if vendas2020[i] > vendas2019[i]:\n",
    "        crescimento = vendas2020[i] / vendas2019[i] - 1\n",
    "        print('O produto {} vendeu em 2019 R$ {:,}, e em 2020 R$ {:,}. Com crescimento de {:.2%} % em vendas'.format(produtos[i], vendas2019[i], vendas2020[i], crescimento))\n",
    "\n",
    "\n"
   ]
  }
 ],
 "metadata": {
  "colab": {
   "provenance": []
  },
  "kernelspec": {
   "display_name": "Python 3 (ipykernel)",
   "language": "python",
   "name": "python3"
  },
  "language_info": {
   "codemirror_mode": {
    "name": "ipython",
    "version": 3
   },
   "file_extension": ".py",
   "mimetype": "text/x-python",
   "name": "python",
   "nbconvert_exporter": "python",
   "pygments_lexer": "ipython3",
   "version": "3.9.7"
  }
 },
 "nbformat": 4,
 "nbformat_minor": 1
}
