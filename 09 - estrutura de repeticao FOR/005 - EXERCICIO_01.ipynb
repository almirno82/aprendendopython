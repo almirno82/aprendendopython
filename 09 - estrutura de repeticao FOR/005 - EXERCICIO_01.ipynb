{
 "cells": [
  {
   "cell_type": "markdown",
   "id": "c124af31",
   "metadata": {},
   "source": [
    "1. Criando um Registro de Hóspedes\n",
    "Digamos que você está criando o sistema para registrar a chegada de hóspedes em um hotel. No hotel, os hóspedes podem ter quartos com 1, 2, 3 e 4 pessoas. Seu sistema deve conseguir:\n",
    "\n",
    "Identificar quantas pessoas o hóspede que acabou de chegar vai ter no quarto (perguntando por meio de input)\n",
    "De acordo com a quantidade de pessoas do hóspede, ele deve fazer um for para perguntar o cpf e o nome de cada pessoa, a fim de registrá-la no quarto (2 inputs para cada pessoa, 1 para o cpf e outro para o nome)\n",
    "O seu programa então deve gerar uma lista com todas as pessoas que ficarão no quarto em que cada item dessa lista é o nome da pessoa e o cpf da pessoa, assim:"
   ]
  },
  {
   "cell_type": "code",
   "execution_count": null,
   "id": "01bc22d5",
   "metadata": {},
   "outputs": [],
   "source": [
    "quarto = [\n",
    "    ['João', 'cpf:00000000000'],\n",
    "    ['Julia', 'cpf:11111111111'],\n",
    "    ['Marcus', 'cpf:22222222222'],\n",
    "    ['Maria', 'cpf:33333333333'],"
   ]
  },
  {
   "cell_type": "markdown",
   "id": "7fbaf586",
   "metadata": {},
   "source": [
    "Para simplificar, não vamos nos preocupar com possibilidades de \"tentar colocar mais de 1 hóspede, digitar o cpf errado, etc. Nosso objetivo é treinar a criação de uma rotina de cadastro"
   ]
  },
  {
   "cell_type": "code",
   "execution_count": 6,
   "id": "1a0135b9",
   "metadata": {},
   "outputs": [
    {
     "name": "stdout",
     "output_type": "stream",
     "text": [
      "Qual a quantidade de pessoas terá no quarto?2\n",
      "Digite o nome: almir\n",
      "Digite o cpf: 4333\n",
      "Digite o nome: aline\n",
      "Digite o cpf: 45553\n",
      "[['almir', 'cpf: 4333'], ['aline', 'cpf: 45553']]\n"
     ]
    }
   ],
   "source": [
    "quarto = []\n",
    "\n",
    "qtde_hospedes_quarto = int(input('Qual a quantidade de pessoas terá no quarto?'))\n",
    "\n",
    "for i in range(qtde_hospedes_quarto):\n",
    "    nome = input('Digite o nome: ')\n",
    "    cpf = input('Digite o cpf: ')\n",
    "    hospede = [nome, 'cpf: '+cpf]\n",
    "    quarto.append(hospede)\n",
    "    \n",
    "print(quarto)\n",
    "    \n",
    "\n"
   ]
  }
 ],
 "metadata": {
  "kernelspec": {
   "display_name": "Python 3 (ipykernel)",
   "language": "python",
   "name": "python3"
  },
  "language_info": {
   "codemirror_mode": {
    "name": "ipython",
    "version": 3
   },
   "file_extension": ".py",
   "mimetype": "text/x-python",
   "name": "python",
   "nbconvert_exporter": "python",
   "pygments_lexer": "ipython3",
   "version": "3.9.7"
  }
 },
 "nbformat": 4,
 "nbformat_minor": 5
}
