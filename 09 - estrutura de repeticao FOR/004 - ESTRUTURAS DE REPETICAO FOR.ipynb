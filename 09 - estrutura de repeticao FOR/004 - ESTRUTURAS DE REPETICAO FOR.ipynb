{
 "cells": [
  {
   "cell_type": "markdown",
   "id": "a78ba4d5",
   "metadata": {},
   "source": [
    "Exemplo Prático\n",
    "Vamos pegar um exemplo de nível mínimo de estoque. Em uma fábrica você tem vários produtos e não pode deixar que os produtos fiquem em falta. Para isso, foi definido uma quantidade mínima de estoque que os produtos precisam ter:\n",
    "\n",
    "Identifique quais produtos estão abaixo do nível mínimo de estoque."
   ]
  },
  {
   "cell_type": "code",
   "execution_count": 1,
   "id": "4b99244a",
   "metadata": {},
   "outputs": [],
   "source": [
    "estoque = [1200, 300, 800, 1500, 1900, 2750, 400, 20, 23, 70, 90, 80, 1100, 999, 900, 880, 870, 50, 1111, 120, 300, 450, 800]\n",
    "produtos = ['coca', 'pepsi', 'guarana', 'skol', 'brahma', 'agua', 'del valle', 'dolly', 'red bull', 'cachaça', 'vinho tinto', 'vodka', 'vinho branco', 'tequila', 'champagne', 'gin', 'guaracamp', 'matte', 'leite de castanha', 'leite', 'jurupinga', 'sprite', 'fanta']\n",
    "nivel_minimo = 50"
   ]
  },
  {
   "cell_type": "code",
   "execution_count": 4,
   "id": "3f1cca9f",
   "metadata": {},
   "outputs": [
    {
     "name": "stdout",
     "output_type": "stream",
     "text": [
      "O produto dolly está com estoque de 20, abaixo do nível mínimo.\n",
      "O produto red bull está com estoque de 23, abaixo do nível mínimo.\n"
     ]
    }
   ],
   "source": [
    "for i, item in enumerate(estoque):\n",
    "    if estoque[i]<nivel_minimo:\n",
    "        print('O produto {} está com estoque de {}, abaixo do nível mínimo.'.format(produtos[i], estoque[i]))"
   ]
  }
 ],
 "metadata": {
  "kernelspec": {
   "display_name": "Python 3 (ipykernel)",
   "language": "python",
   "name": "python3"
  },
  "language_info": {
   "codemirror_mode": {
    "name": "ipython",
    "version": 3
   },
   "file_extension": ".py",
   "mimetype": "text/x-python",
   "name": "python",
   "nbconvert_exporter": "python",
   "pygments_lexer": "ipython3",
   "version": "3.9.7"
  }
 },
 "nbformat": 4,
 "nbformat_minor": 5
}
